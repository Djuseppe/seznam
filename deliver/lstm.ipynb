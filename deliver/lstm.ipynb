{
  "nbformat": 4,
  "nbformat_minor": 0,
  "metadata": {
    "colab": {
      "name": "bilstm.ipynb",
      "provenance": [],
      "collapsed_sections": [],
      "toc_visible": true
    },
    "kernelspec": {
      "name": "python3",
      "display_name": "Python 3"
    },
    "accelerator": "GPU"
  },
  "cells": [
    {
      "cell_type": "code",
      "metadata": {
        "id": "bEtl_8E5UOZW",
        "outputId": "b29ccf00-2033-4f8a-ab44-ab90ab9075d5",
        "colab": {
          "base_uri": "https://localhost:8080/"
        }
      },
      "source": [
        "!nvidia-smi"
      ],
      "execution_count": null,
      "outputs": [
        {
          "output_type": "stream",
          "text": [
            "Wed Nov 11 17:38:11 2020       \n",
            "+-----------------------------------------------------------------------------+\n",
            "| NVIDIA-SMI 455.32.00    Driver Version: 418.67       CUDA Version: 10.1     |\n",
            "|-------------------------------+----------------------+----------------------+\n",
            "| GPU  Name        Persistence-M| Bus-Id        Disp.A | Volatile Uncorr. ECC |\n",
            "| Fan  Temp  Perf  Pwr:Usage/Cap|         Memory-Usage | GPU-Util  Compute M. |\n",
            "|                               |                      |               MIG M. |\n",
            "|===============================+======================+======================|\n",
            "|   0  Tesla T4            Off  | 00000000:00:04.0 Off |                    0 |\n",
            "| N/A   64C    P8    11W /  70W |      0MiB / 15079MiB |      0%      Default |\n",
            "|                               |                      |                 ERR! |\n",
            "+-------------------------------+----------------------+----------------------+\n",
            "                                                                               \n",
            "+-----------------------------------------------------------------------------+\n",
            "| Processes:                                                                  |\n",
            "|  GPU   GI   CI        PID   Type   Process name                  GPU Memory |\n",
            "|        ID   ID                                                   Usage      |\n",
            "|=============================================================================|\n",
            "|  No running processes found                                                 |\n",
            "+-----------------------------------------------------------------------------+\n"
          ],
          "name": "stdout"
        }
      ]
    },
    {
      "cell_type": "code",
      "metadata": {
        "id": "8f75T-Qf_1y1",
        "outputId": "9795bd79-0f2c-46d2-d0b7-80465a54bea4",
        "colab": {
          "base_uri": "https://localhost:8080/"
        }
      },
      "source": [
        "import sys\n",
        "import os\n",
        "# sys.path.append('../src/')\n",
        "sys.path.append(os.path.join('drive', 'My Drive', 'seznam'))\n",
        "import os\n",
        "import re\n",
        "import gc\n",
        "from tqdm.notebook import tqdm\n",
        "import string\n",
        "import nltk\n",
        "import logging\n",
        "import scipy as sc\n",
        "import numpy as np\n",
        "import pandas as pd\n",
        "import seaborn as sns\n",
        "from scipy import stats as sts\n",
        "\n",
        "from sklearn.naive_bayes import MultinomialNB\n",
        "from sklearn.feature_extraction.text import TfidfVectorizer, CountVectorizer\n",
        "from sklearn.preprocessing import LabelEncoder\n",
        "from sklearn.model_selection import train_test_split\n",
        "from sklearn.metrics import precision_recall_fscore_support, confusion_matrix,\\\n",
        "f1_score, roc_auc_score, classification_report  # plot_confusion_matrix\n",
        "from sklearn.metrics.pairwise import cosine_similarity\n",
        "\n",
        "# import statsmodels.formula.api as smf\n",
        "# import statsmodels.stats.api as sms\n",
        "from plotly.offline import plot, iplot\n",
        "import plotly.graph_objs as go\n",
        "from plotly.subplots import make_subplots\n",
        "from pandas.plotting import register_matplotlib_converters\n",
        "from matplotlib import pyplot as plt\n",
        "from matplotlib.colors import ListedColormap\n",
        "from tqdm import tqdm_notebook\n",
        "from functools import partial\n",
        "from dl import ngram_vectorize\n",
        "\n",
        "# from stop_words_cz import STOP_WORDS\n",
        "\n",
        "register_matplotlib_converters()\n",
        "\n",
        "pallet = 'ggplot'\n",
        "plt.style.use(pallet)\n",
        "cmap = ListedColormap(sns.color_palette())\n",
        "# sns.set()\n",
        "\n",
        "params = { \n",
        "    'figure.figsize': np.array([10, 6])\n",
        "}\n",
        "plt.rcParams.update(params)\n",
        "\n",
        "# %config Completer.use_jedi = False\n",
        "%config InlineBackend.figure_format = 'retina'\n",
        "%matplotlib inline\n",
        "%load_ext autoreload\n",
        "%autoreload 2"
      ],
      "execution_count": null,
      "outputs": [
        {
          "output_type": "stream",
          "text": [
            "The autoreload extension is already loaded. To reload it, use:\n",
            "  %reload_ext autoreload\n"
          ],
          "name": "stdout"
        }
      ]
    },
    {
      "cell_type": "code",
      "metadata": {
        "id": "a7q3JCAJBR3U",
        "outputId": "fdd53b96-e5fc-490d-88b2-8841740ecea2",
        "colab": {
          "base_uri": "https://localhost:8080/",
          "height": 112
        }
      },
      "source": [
        "data_folder = os.path.join('drive', 'My Drive', 'seznam')\n",
        "data_cleaned = pd.read_csv(os.path.join(data_folder, 'data_cleaned.csv'), index_col=[0])\n",
        "categories = data_cleaned.category.unique()\n",
        "data_cleaned.head(2)"
      ],
      "execution_count": null,
      "outputs": [
        {
          "output_type": "execute_result",
          "data": {
            "text/html": [
              "<div>\n",
              "<style scoped>\n",
              "    .dataframe tbody tr th:only-of-type {\n",
              "        vertical-align: middle;\n",
              "    }\n",
              "\n",
              "    .dataframe tbody tr th {\n",
              "        vertical-align: top;\n",
              "    }\n",
              "\n",
              "    .dataframe thead th {\n",
              "        text-align: right;\n",
              "    }\n",
              "</style>\n",
              "<table border=\"1\" class=\"dataframe\">\n",
              "  <thead>\n",
              "    <tr style=\"text-align: right;\">\n",
              "      <th></th>\n",
              "      <th>category</th>\n",
              "      <th>rss_title</th>\n",
              "      <th>rss_perex</th>\n",
              "      <th>tot</th>\n",
              "    </tr>\n",
              "  </thead>\n",
              "  <tbody>\n",
              "    <tr>\n",
              "      <th>0</th>\n",
              "      <td>biatlon</td>\n",
              "      <td>krčmář dojel hromadném závodě devátý díky skvě...</td>\n",
              "      <td>závod hromadným startem německém oberhofu česk...</td>\n",
              "      <td>krčmář dojel hromadném závodě devátý díky skvě...</td>\n",
              "    </tr>\n",
              "    <tr>\n",
              "      <th>1</th>\n",
              "      <td>biatlon</td>\n",
              "      <td>česká vlajka pokljuce vidět štafetách medaile ...</td>\n",
              "      <td>galerie</td>\n",
              "      <td>česká vlajka pokljuce vidět štafetách medaile ...</td>\n",
              "    </tr>\n",
              "  </tbody>\n",
              "</table>\n",
              "</div>"
            ],
            "text/plain": [
              "  category  ...                                                tot\n",
              "0  biatlon  ...  krčmář dojel hromadném závodě devátý díky skvě...\n",
              "1  biatlon  ...  česká vlajka pokljuce vidět štafetách medaile ...\n",
              "\n",
              "[2 rows x 4 columns]"
            ]
          },
          "metadata": {
            "tags": []
          },
          "execution_count": 8
        }
      ]
    },
    {
      "cell_type": "code",
      "metadata": {
        "id": "G4NM52ISeTzb",
        "outputId": "94da3aee-f726-4852-9a79-7a84cfba373c",
        "colab": {
          "base_uri": "https://localhost:8080/",
          "height": 112
        }
      },
      "source": [
        "# encode categories into ints\n",
        "cat_encoder = LabelEncoder()\n",
        "cat_encoder.fit(data_cleaned.category.values)\n",
        "data_cleaned.category = cat_encoder.transform(data_cleaned.category.values)\n",
        "data_cleaned.head(2)"
      ],
      "execution_count": null,
      "outputs": [
        {
          "output_type": "execute_result",
          "data": {
            "text/html": [
              "<div>\n",
              "<style scoped>\n",
              "    .dataframe tbody tr th:only-of-type {\n",
              "        vertical-align: middle;\n",
              "    }\n",
              "\n",
              "    .dataframe tbody tr th {\n",
              "        vertical-align: top;\n",
              "    }\n",
              "\n",
              "    .dataframe thead th {\n",
              "        text-align: right;\n",
              "    }\n",
              "</style>\n",
              "<table border=\"1\" class=\"dataframe\">\n",
              "  <thead>\n",
              "    <tr style=\"text-align: right;\">\n",
              "      <th></th>\n",
              "      <th>category</th>\n",
              "      <th>rss_title</th>\n",
              "      <th>rss_perex</th>\n",
              "      <th>tot</th>\n",
              "    </tr>\n",
              "  </thead>\n",
              "  <tbody>\n",
              "    <tr>\n",
              "      <th>0</th>\n",
              "      <td>3</td>\n",
              "      <td>krčmář dojel hromadném závodě devátý díky skvě...</td>\n",
              "      <td>závod hromadným startem německém oberhofu česk...</td>\n",
              "      <td>krčmář dojel hromadném závodě devátý díky skvě...</td>\n",
              "    </tr>\n",
              "    <tr>\n",
              "      <th>1</th>\n",
              "      <td>3</td>\n",
              "      <td>česká vlajka pokljuce vidět štafetách medaile ...</td>\n",
              "      <td>galerie</td>\n",
              "      <td>česká vlajka pokljuce vidět štafetách medaile ...</td>\n",
              "    </tr>\n",
              "  </tbody>\n",
              "</table>\n",
              "</div>"
            ],
            "text/plain": [
              "   category  ...                                                tot\n",
              "0         3  ...  krčmář dojel hromadném závodě devátý díky skvě...\n",
              "1         3  ...  česká vlajka pokljuce vidět štafetách medaile ...\n",
              "\n",
              "[2 rows x 4 columns]"
            ]
          },
          "metadata": {
            "tags": []
          },
          "execution_count": 9
        }
      ]
    },
    {
      "cell_type": "code",
      "metadata": {
        "id": "rOZAAKtm_7LT",
        "outputId": "3a64b219-b450-4d00-c43c-c8cbfe24bfaa",
        "colab": {
          "base_uri": "https://localhost:8080/"
        }
      },
      "source": [
        "SEED = 12345\n",
        "\n",
        "X, y = data_cleaned.drop(['category', 'rss_title', 'rss_perex'], axis=1), data_cleaned.category\n",
        "X_train, X_test, y_train, y_test = train_test_split(X, y, test_size=0.1, stratify=y, random_state=SEED)\n",
        "train_data = pd.concat([X_train, y_train], axis=1)\n",
        "test_data = pd.concat([X_test, y_test], axis=1)\n",
        "\n",
        "X_train.shape, y_train.shape"
      ],
      "execution_count": null,
      "outputs": [
        {
          "output_type": "execute_result",
          "data": {
            "text/plain": [
              "((100094, 1), (100094,))"
            ]
          },
          "metadata": {
            "tags": []
          },
          "execution_count": 10
        }
      ]
    },
    {
      "cell_type": "code",
      "metadata": {
        "id": "XwbOSbwIBxPg",
        "outputId": "d84fdabe-2239-4d3f-8e6b-c1832aa473a3",
        "colab": {
          "base_uri": "https://localhost:8080/",
          "height": 112
        }
      },
      "source": [
        "ohe = pd.get_dummies(data_cleaned.category)\n",
        "X_ohe = pd.concat([data_cleaned.tot, ohe], axis=1)\n",
        "X_ohe.head(2)"
      ],
      "execution_count": null,
      "outputs": [
        {
          "output_type": "execute_result",
          "data": {
            "text/html": [
              "<div>\n",
              "<style scoped>\n",
              "    .dataframe tbody tr th:only-of-type {\n",
              "        vertical-align: middle;\n",
              "    }\n",
              "\n",
              "    .dataframe tbody tr th {\n",
              "        vertical-align: top;\n",
              "    }\n",
              "\n",
              "    .dataframe thead th {\n",
              "        text-align: right;\n",
              "    }\n",
              "</style>\n",
              "<table border=\"1\" class=\"dataframe\">\n",
              "  <thead>\n",
              "    <tr style=\"text-align: right;\">\n",
              "      <th></th>\n",
              "      <th>tot</th>\n",
              "      <th>0</th>\n",
              "      <th>1</th>\n",
              "      <th>2</th>\n",
              "      <th>3</th>\n",
              "      <th>4</th>\n",
              "      <th>5</th>\n",
              "      <th>6</th>\n",
              "      <th>7</th>\n",
              "      <th>8</th>\n",
              "      <th>9</th>\n",
              "      <th>10</th>\n",
              "      <th>11</th>\n",
              "      <th>12</th>\n",
              "      <th>13</th>\n",
              "      <th>14</th>\n",
              "      <th>15</th>\n",
              "      <th>16</th>\n",
              "      <th>17</th>\n",
              "      <th>18</th>\n",
              "      <th>19</th>\n",
              "      <th>20</th>\n",
              "      <th>21</th>\n",
              "      <th>22</th>\n",
              "      <th>23</th>\n",
              "    </tr>\n",
              "  </thead>\n",
              "  <tbody>\n",
              "    <tr>\n",
              "      <th>0</th>\n",
              "      <td>krčmář dojel hromadném závodě devátý díky skvě...</td>\n",
              "      <td>0</td>\n",
              "      <td>0</td>\n",
              "      <td>0</td>\n",
              "      <td>1</td>\n",
              "      <td>0</td>\n",
              "      <td>0</td>\n",
              "      <td>0</td>\n",
              "      <td>0</td>\n",
              "      <td>0</td>\n",
              "      <td>0</td>\n",
              "      <td>0</td>\n",
              "      <td>0</td>\n",
              "      <td>0</td>\n",
              "      <td>0</td>\n",
              "      <td>0</td>\n",
              "      <td>0</td>\n",
              "      <td>0</td>\n",
              "      <td>0</td>\n",
              "      <td>0</td>\n",
              "      <td>0</td>\n",
              "      <td>0</td>\n",
              "      <td>0</td>\n",
              "      <td>0</td>\n",
              "      <td>0</td>\n",
              "    </tr>\n",
              "    <tr>\n",
              "      <th>1</th>\n",
              "      <td>česká vlajka pokljuce vidět štafetách medaile ...</td>\n",
              "      <td>0</td>\n",
              "      <td>0</td>\n",
              "      <td>0</td>\n",
              "      <td>1</td>\n",
              "      <td>0</td>\n",
              "      <td>0</td>\n",
              "      <td>0</td>\n",
              "      <td>0</td>\n",
              "      <td>0</td>\n",
              "      <td>0</td>\n",
              "      <td>0</td>\n",
              "      <td>0</td>\n",
              "      <td>0</td>\n",
              "      <td>0</td>\n",
              "      <td>0</td>\n",
              "      <td>0</td>\n",
              "      <td>0</td>\n",
              "      <td>0</td>\n",
              "      <td>0</td>\n",
              "      <td>0</td>\n",
              "      <td>0</td>\n",
              "      <td>0</td>\n",
              "      <td>0</td>\n",
              "      <td>0</td>\n",
              "    </tr>\n",
              "  </tbody>\n",
              "</table>\n",
              "</div>"
            ],
            "text/plain": [
              "                                                 tot  0  1  2  ...  20  21  22  23\n",
              "0  krčmář dojel hromadném závodě devátý díky skvě...  0  0  0  ...   0   0   0   0\n",
              "1  česká vlajka pokljuce vidět štafetách medaile ...  0  0  0  ...   0   0   0   0\n",
              "\n",
              "[2 rows x 25 columns]"
            ]
          },
          "metadata": {
            "tags": []
          },
          "execution_count": 43
        }
      ]
    },
    {
      "cell_type": "code",
      "metadata": {
        "id": "fhew8UV2B2Js"
      },
      "source": [
        "X_train_ohe, X_test_ohe, y_train_ohe, y_test_ohe = train_test_split(\n",
        "    X_ohe.tot, X_ohe.drop(['tot'], axis=1),\n",
        "    test_size=0.1, stratify=y, random_state=SEED)"
      ],
      "execution_count": null,
      "outputs": []
    },
    {
      "cell_type": "markdown",
      "metadata": {
        "id": "N1mBc9zH2YG4"
      },
      "source": [
        "LSTM model"
      ]
    },
    {
      "cell_type": "code",
      "metadata": {
        "id": "fXTagSrkCxJC"
      },
      "source": [
        "from keras.preprocessing.text import Tokenizer\n",
        "from keras.preprocessing.sequence import pad_sequences\n",
        "from keras.models import Sequential\n",
        "from keras.layers import Dense, Flatten, LSTM, Conv1D, MaxPooling1D, Dropout, Activation\n",
        "from keras.layers.embeddings import Embedding"
      ],
      "execution_count": null,
      "outputs": []
    },
    {
      "cell_type": "code",
      "metadata": {
        "id": "mVjItceqC670"
      },
      "source": [
        "# get tokens\n",
        "vocabulary = 20_000\n",
        "max_len = 50\n",
        "tokenizer = Tokenizer(num_words=vocabulary)\n",
        "tokenizer.fit_on_texts(X_train_ohe.values)\n",
        "sequences = tokenizer.texts_to_sequences(X_train_ohe.values)\n",
        "train = pad_sequences(sequences, maxlen=max_len)\n",
        "sequences = tokenizer.texts_to_sequences(X_test_ohe.values)\n",
        "test = pad_sequences(sequences, maxlen=max_len)"
      ],
      "execution_count": null,
      "outputs": []
    },
    {
      "cell_type": "code",
      "metadata": {
        "id": "p-dEwDc2DAe1",
        "outputId": "26bbed9e-e2fb-4eba-8e8b-4f4eb6283add",
        "colab": {
          "base_uri": "https://localhost:8080/"
        }
      },
      "source": [
        "model = Sequential()\n",
        "model.add(Embedding(vocabulary, 100, input_length=max_len))\n",
        "model.add(Dropout(0.2))\n",
        "model.add(Conv1D(64, 1, activation='relu'))\n",
        "model.add(MaxPooling1D(pool_size=1))\n",
        "model.add(LSTM(100))\n",
        "model.add(Dense(len(categories), activation='softmax'))\n",
        "\n",
        "model.compile(loss='categorical_crossentropy', optimizer='adam', metrics=['accuracy'])\n",
        "model.summary()"
      ],
      "execution_count": null,
      "outputs": [
        {
          "output_type": "stream",
          "text": [
            "Model: \"sequential_1\"\n",
            "_________________________________________________________________\n",
            "Layer (type)                 Output Shape              Param #   \n",
            "=================================================================\n",
            "embedding_1 (Embedding)      (None, 50, 100)           2000000   \n",
            "_________________________________________________________________\n",
            "dropout_1 (Dropout)          (None, 50, 100)           0         \n",
            "_________________________________________________________________\n",
            "conv1d_1 (Conv1D)            (None, 50, 64)            6464      \n",
            "_________________________________________________________________\n",
            "max_pooling1d_1 (MaxPooling1 (None, 50, 64)            0         \n",
            "_________________________________________________________________\n",
            "lstm_1 (LSTM)                (None, 100)               66000     \n",
            "_________________________________________________________________\n",
            "dense_1 (Dense)              (None, 24)                2424      \n",
            "=================================================================\n",
            "Total params: 2,074,888\n",
            "Trainable params: 2,074,888\n",
            "Non-trainable params: 0\n",
            "_________________________________________________________________\n"
          ],
          "name": "stdout"
        }
      ]
    },
    {
      "cell_type": "code",
      "metadata": {
        "id": "yNEPRa03DHZw",
        "outputId": "3d14c0b1-d58f-4e09-d2d8-76e6cc6d4c08",
        "colab": {
          "base_uri": "https://localhost:8080/"
        }
      },
      "source": [
        "model.fit(\n",
        "    train, y_train_ohe,\n",
        "    batch_size=1024,\n",
        "    epochs=15,\n",
        "    verbose=1,\n",
        "    validation_split=0.1,\n",
        "    shuffle=True)"
      ],
      "execution_count": null,
      "outputs": [
        {
          "output_type": "stream",
          "text": [
            "Epoch 1/15\n",
            "88/88 [==============================] - 5s 59ms/step - loss: 1.8976 - accuracy: 0.4383 - val_loss: 1.2452 - val_accuracy: 0.6908\n",
            "Epoch 2/15\n",
            "88/88 [==============================] - 4s 49ms/step - loss: 0.7159 - accuracy: 0.8099 - val_loss: 0.4572 - val_accuracy: 0.8799\n",
            "Epoch 3/15\n",
            "88/88 [==============================] - 4s 49ms/step - loss: 0.3355 - accuracy: 0.9054 - val_loss: 0.2959 - val_accuracy: 0.9162\n",
            "Epoch 4/15\n",
            "88/88 [==============================] - 4s 49ms/step - loss: 0.1896 - accuracy: 0.9490 - val_loss: 0.2120 - val_accuracy: 0.9432\n",
            "Epoch 5/15\n",
            "88/88 [==============================] - 4s 49ms/step - loss: 0.1141 - accuracy: 0.9703 - val_loss: 0.1833 - val_accuracy: 0.9526\n",
            "Epoch 6/15\n",
            "88/88 [==============================] - 4s 49ms/step - loss: 0.0779 - accuracy: 0.9805 - val_loss: 0.1588 - val_accuracy: 0.9582\n",
            "Epoch 7/15\n",
            "88/88 [==============================] - 4s 48ms/step - loss: 0.0542 - accuracy: 0.9871 - val_loss: 0.1534 - val_accuracy: 0.9589\n",
            "Epoch 8/15\n",
            "88/88 [==============================] - 4s 49ms/step - loss: 0.0418 - accuracy: 0.9904 - val_loss: 0.1573 - val_accuracy: 0.9600\n",
            "Epoch 9/15\n",
            "88/88 [==============================] - 4s 49ms/step - loss: 0.0316 - accuracy: 0.9932 - val_loss: 0.1478 - val_accuracy: 0.9619\n",
            "Epoch 10/15\n",
            "88/88 [==============================] - 4s 50ms/step - loss: 0.0273 - accuracy: 0.9942 - val_loss: 0.1565 - val_accuracy: 0.9615\n",
            "Epoch 11/15\n",
            "88/88 [==============================] - 4s 49ms/step - loss: 0.0232 - accuracy: 0.9953 - val_loss: 0.1489 - val_accuracy: 0.9627\n",
            "Epoch 12/15\n",
            "88/88 [==============================] - 4s 49ms/step - loss: 0.0181 - accuracy: 0.9965 - val_loss: 0.1558 - val_accuracy: 0.9639\n",
            "Epoch 13/15\n",
            "88/88 [==============================] - 4s 49ms/step - loss: 0.0148 - accuracy: 0.9972 - val_loss: 0.1560 - val_accuracy: 0.9616\n",
            "Epoch 14/15\n",
            "88/88 [==============================] - 4s 49ms/step - loss: 0.0136 - accuracy: 0.9974 - val_loss: 0.1666 - val_accuracy: 0.9629\n",
            "Epoch 15/15\n",
            "88/88 [==============================] - 4s 49ms/step - loss: 0.0136 - accuracy: 0.9973 - val_loss: 0.1574 - val_accuracy: 0.9644\n"
          ],
          "name": "stdout"
        },
        {
          "output_type": "execute_result",
          "data": {
            "text/plain": [
              "<tensorflow.python.keras.callbacks.History at 0x7f9960390e10>"
            ]
          },
          "metadata": {
            "tags": []
          },
          "execution_count": 48
        }
      ]
    },
    {
      "cell_type": "code",
      "metadata": {
        "id": "OaeNr_5MDM5B",
        "outputId": "5537d586-9d0a-46c1-fa7f-81302e569525",
        "colab": {
          "base_uri": "https://localhost:8080/"
        }
      },
      "source": [
        "model.save(os.path.join(data_folder, 'lstm.bin'))"
      ],
      "execution_count": null,
      "outputs": [
        {
          "output_type": "stream",
          "text": [
            "INFO:tensorflow:Assets written to: drive/My Drive/seznam/lstm.bin/assets\n"
          ],
          "name": "stdout"
        }
      ]
    },
    {
      "cell_type": "code",
      "metadata": {
        "id": "6CENenHLcz1T",
        "outputId": "28355288-e980-4ae4-d5c1-9a0a6234321b",
        "colab": {
          "base_uri": "https://localhost:8080/"
        }
      },
      "source": [
        "print(classification_report(y_test, np.argmax(model.predict(test), axis=1)))"
      ],
      "execution_count": null,
      "outputs": [
        {
          "output_type": "stream",
          "text": [
            "              precision    recall  f1-score   support\n",
            "\n",
            "           0       0.89      0.92      0.91       255\n",
            "           1       0.73      0.79      0.76        14\n",
            "           2       0.96      0.95      0.96       249\n",
            "           3       0.97      0.97      0.97       153\n",
            "           4       0.67      0.53      0.59        15\n",
            "           5       0.92      0.92      0.92       205\n",
            "           6       0.09      0.33      0.14         6\n",
            "           7       0.86      0.83      0.85        53\n",
            "           8       0.92      0.96      0.94       573\n",
            "           9       0.99      0.99      0.99      4589\n",
            "          10       0.29      0.50      0.36         4\n",
            "          11       0.81      0.84      0.83        45\n",
            "          12       0.94      0.73      0.82        67\n",
            "          13       0.99      0.98      0.99      2878\n",
            "          15       0.57      0.50      0.53         8\n",
            "          16       0.89      0.86      0.88        96\n",
            "          17       0.94      0.92      0.93       481\n",
            "          18       0.73      0.73      0.73       132\n",
            "          19       1.00      0.60      0.75         5\n",
            "          20       0.83      0.83      0.83         6\n",
            "          21       0.99      0.98      0.98      1144\n",
            "          22       0.84      0.80      0.82        60\n",
            "          23       0.89      0.94      0.91        84\n",
            "\n",
            "    accuracy                           0.97     11122\n",
            "   macro avg       0.81      0.80      0.80     11122\n",
            "weighted avg       0.97      0.97      0.97     11122\n",
            "\n"
          ],
          "name": "stdout"
        }
      ]
    },
    {
      "cell_type": "markdown",
      "metadata": {
        "id": "oO66ku1WEMwm"
      },
      "source": [
        "# BILSTM with fastest embeddings"
      ]
    },
    {
      "cell_type": "code",
      "metadata": {
        "id": "8Pq2zX8kG_Nl",
        "outputId": "772eb49c-9dd9-48f0-8ca5-7741822de37c",
        "colab": {
          "base_uri": "https://localhost:8080/",
          "height": 162
        }
      },
      "source": [
        "embs = pd.read_csv(os.path.join(data_folder, 'embeddings.csv'), index_col=[0])\n",
        "embs.head(2)"
      ],
      "execution_count": null,
      "outputs": [
        {
          "output_type": "execute_result",
          "data": {
            "text/html": [
              "<div>\n",
              "<style scoped>\n",
              "    .dataframe tbody tr th:only-of-type {\n",
              "        vertical-align: middle;\n",
              "    }\n",
              "\n",
              "    .dataframe tbody tr th {\n",
              "        vertical-align: top;\n",
              "    }\n",
              "\n",
              "    .dataframe thead th {\n",
              "        text-align: right;\n",
              "    }\n",
              "</style>\n",
              "<table border=\"1\" class=\"dataframe\">\n",
              "  <thead>\n",
              "    <tr style=\"text-align: right;\">\n",
              "      <th></th>\n",
              "      <th>0</th>\n",
              "      <th>1</th>\n",
              "      <th>2</th>\n",
              "      <th>3</th>\n",
              "      <th>4</th>\n",
              "      <th>5</th>\n",
              "      <th>6</th>\n",
              "      <th>7</th>\n",
              "      <th>8</th>\n",
              "      <th>9</th>\n",
              "      <th>10</th>\n",
              "      <th>11</th>\n",
              "      <th>12</th>\n",
              "      <th>13</th>\n",
              "      <th>14</th>\n",
              "      <th>15</th>\n",
              "      <th>16</th>\n",
              "      <th>17</th>\n",
              "      <th>18</th>\n",
              "      <th>19</th>\n",
              "      <th>20</th>\n",
              "      <th>21</th>\n",
              "      <th>22</th>\n",
              "      <th>23</th>\n",
              "      <th>24</th>\n",
              "      <th>25</th>\n",
              "      <th>26</th>\n",
              "      <th>27</th>\n",
              "      <th>28</th>\n",
              "      <th>29</th>\n",
              "      <th>30</th>\n",
              "      <th>31</th>\n",
              "      <th>32</th>\n",
              "      <th>33</th>\n",
              "      <th>34</th>\n",
              "      <th>35</th>\n",
              "      <th>36</th>\n",
              "      <th>37</th>\n",
              "      <th>38</th>\n",
              "      <th>39</th>\n",
              "      <th>...</th>\n",
              "      <th>260</th>\n",
              "      <th>261</th>\n",
              "      <th>262</th>\n",
              "      <th>263</th>\n",
              "      <th>264</th>\n",
              "      <th>265</th>\n",
              "      <th>266</th>\n",
              "      <th>267</th>\n",
              "      <th>268</th>\n",
              "      <th>269</th>\n",
              "      <th>270</th>\n",
              "      <th>271</th>\n",
              "      <th>272</th>\n",
              "      <th>273</th>\n",
              "      <th>274</th>\n",
              "      <th>275</th>\n",
              "      <th>276</th>\n",
              "      <th>277</th>\n",
              "      <th>278</th>\n",
              "      <th>279</th>\n",
              "      <th>280</th>\n",
              "      <th>281</th>\n",
              "      <th>282</th>\n",
              "      <th>283</th>\n",
              "      <th>284</th>\n",
              "      <th>285</th>\n",
              "      <th>286</th>\n",
              "      <th>287</th>\n",
              "      <th>288</th>\n",
              "      <th>289</th>\n",
              "      <th>290</th>\n",
              "      <th>291</th>\n",
              "      <th>292</th>\n",
              "      <th>293</th>\n",
              "      <th>294</th>\n",
              "      <th>295</th>\n",
              "      <th>296</th>\n",
              "      <th>297</th>\n",
              "      <th>298</th>\n",
              "      <th>299</th>\n",
              "    </tr>\n",
              "  </thead>\n",
              "  <tbody>\n",
              "    <tr>\n",
              "      <th>0</th>\n",
              "      <td>0.0000</td>\n",
              "      <td>0.0000</td>\n",
              "      <td>0.0000</td>\n",
              "      <td>0.0000</td>\n",
              "      <td>0.0000</td>\n",
              "      <td>0.0000</td>\n",
              "      <td>0.0000</td>\n",
              "      <td>0.0000</td>\n",
              "      <td>0.0000</td>\n",
              "      <td>0.0000</td>\n",
              "      <td>0.0000</td>\n",
              "      <td>0.0000</td>\n",
              "      <td>0.0000</td>\n",
              "      <td>0.0000</td>\n",
              "      <td>0.000</td>\n",
              "      <td>0.0000</td>\n",
              "      <td>0.0000</td>\n",
              "      <td>0.0000</td>\n",
              "      <td>0.0000</td>\n",
              "      <td>0.0000</td>\n",
              "      <td>0.0000</td>\n",
              "      <td>0.0000</td>\n",
              "      <td>0.0000</td>\n",
              "      <td>0.0000</td>\n",
              "      <td>0.0000</td>\n",
              "      <td>0.0000</td>\n",
              "      <td>0.000</td>\n",
              "      <td>0.0000</td>\n",
              "      <td>0.0000</td>\n",
              "      <td>0.0000</td>\n",
              "      <td>0.0000</td>\n",
              "      <td>0.0000</td>\n",
              "      <td>0.000</td>\n",
              "      <td>0.0000</td>\n",
              "      <td>0.0000</td>\n",
              "      <td>0.0000</td>\n",
              "      <td>0.000</td>\n",
              "      <td>0.0000</td>\n",
              "      <td>0.0000</td>\n",
              "      <td>0.0000</td>\n",
              "      <td>...</td>\n",
              "      <td>0.0000</td>\n",
              "      <td>0.0000</td>\n",
              "      <td>0.0000</td>\n",
              "      <td>0.0000</td>\n",
              "      <td>0.0000</td>\n",
              "      <td>0.0000</td>\n",
              "      <td>0.0000</td>\n",
              "      <td>0.000</td>\n",
              "      <td>0.0000</td>\n",
              "      <td>0.0000</td>\n",
              "      <td>0.0000</td>\n",
              "      <td>0.0000</td>\n",
              "      <td>0.000</td>\n",
              "      <td>0.0000</td>\n",
              "      <td>0.000</td>\n",
              "      <td>0.0000</td>\n",
              "      <td>0.0000</td>\n",
              "      <td>0.0000</td>\n",
              "      <td>0.0000</td>\n",
              "      <td>0.0000</td>\n",
              "      <td>0.0000</td>\n",
              "      <td>0.0000</td>\n",
              "      <td>0.0000</td>\n",
              "      <td>0.0000</td>\n",
              "      <td>0.0000</td>\n",
              "      <td>0.0000</td>\n",
              "      <td>0.0000</td>\n",
              "      <td>0.0000</td>\n",
              "      <td>0.0000</td>\n",
              "      <td>0.0000</td>\n",
              "      <td>0.0000</td>\n",
              "      <td>0.0000</td>\n",
              "      <td>0.0000</td>\n",
              "      <td>0.0000</td>\n",
              "      <td>0.0000</td>\n",
              "      <td>0.0000</td>\n",
              "      <td>0.0000</td>\n",
              "      <td>0.0000</td>\n",
              "      <td>0.0000</td>\n",
              "      <td>0.0000</td>\n",
              "    </tr>\n",
              "    <tr>\n",
              "      <th>1</th>\n",
              "      <td>0.0192</td>\n",
              "      <td>-0.0406</td>\n",
              "      <td>0.0511</td>\n",
              "      <td>0.0414</td>\n",
              "      <td>-0.0976</td>\n",
              "      <td>0.0159</td>\n",
              "      <td>0.0293</td>\n",
              "      <td>-0.0341</td>\n",
              "      <td>0.0223</td>\n",
              "      <td>0.0018</td>\n",
              "      <td>0.0268</td>\n",
              "      <td>-0.1222</td>\n",
              "      <td>0.0169</td>\n",
              "      <td>-0.0014</td>\n",
              "      <td>-0.137</td>\n",
              "      <td>0.0041</td>\n",
              "      <td>0.0228</td>\n",
              "      <td>0.0369</td>\n",
              "      <td>-0.0403</td>\n",
              "      <td>-0.0117</td>\n",
              "      <td>0.0309</td>\n",
              "      <td>0.0571</td>\n",
              "      <td>-0.0267</td>\n",
              "      <td>-0.0589</td>\n",
              "      <td>0.0675</td>\n",
              "      <td>0.0399</td>\n",
              "      <td>-0.045</td>\n",
              "      <td>0.0117</td>\n",
              "      <td>0.0395</td>\n",
              "      <td>-0.1315</td>\n",
              "      <td>0.0012</td>\n",
              "      <td>0.0614</td>\n",
              "      <td>0.058</td>\n",
              "      <td>0.0034</td>\n",
              "      <td>-0.0143</td>\n",
              "      <td>-0.0598</td>\n",
              "      <td>0.014</td>\n",
              "      <td>-0.0627</td>\n",
              "      <td>-0.0462</td>\n",
              "      <td>-0.0265</td>\n",
              "      <td>...</td>\n",
              "      <td>-0.1264</td>\n",
              "      <td>0.0401</td>\n",
              "      <td>-0.0357</td>\n",
              "      <td>0.0568</td>\n",
              "      <td>0.0302</td>\n",
              "      <td>-0.0569</td>\n",
              "      <td>0.0614</td>\n",
              "      <td>-0.004</td>\n",
              "      <td>-0.0877</td>\n",
              "      <td>0.0255</td>\n",
              "      <td>0.0199</td>\n",
              "      <td>0.0228</td>\n",
              "      <td>-0.014</td>\n",
              "      <td>-0.0486</td>\n",
              "      <td>0.043</td>\n",
              "      <td>-0.0199</td>\n",
              "      <td>0.0062</td>\n",
              "      <td>-0.1335</td>\n",
              "      <td>-0.0239</td>\n",
              "      <td>0.0461</td>\n",
              "      <td>-0.0915</td>\n",
              "      <td>0.0183</td>\n",
              "      <td>-0.0243</td>\n",
              "      <td>-0.0432</td>\n",
              "      <td>0.1076</td>\n",
              "      <td>0.0685</td>\n",
              "      <td>-0.0603</td>\n",
              "      <td>-0.1046</td>\n",
              "      <td>0.0079</td>\n",
              "      <td>-0.0197</td>\n",
              "      <td>0.0217</td>\n",
              "      <td>-0.0298</td>\n",
              "      <td>-0.0244</td>\n",
              "      <td>-0.0415</td>\n",
              "      <td>-0.0823</td>\n",
              "      <td>0.0305</td>\n",
              "      <td>0.0357</td>\n",
              "      <td>-0.0008</td>\n",
              "      <td>0.0122</td>\n",
              "      <td>-0.0676</td>\n",
              "    </tr>\n",
              "  </tbody>\n",
              "</table>\n",
              "<p>2 rows × 300 columns</p>\n",
              "</div>"
            ],
            "text/plain": [
              "        0       1       2       3  ...     296     297     298     299\n",
              "0  0.0000  0.0000  0.0000  0.0000  ...  0.0000  0.0000  0.0000  0.0000\n",
              "1  0.0192 -0.0406  0.0511  0.0414  ...  0.0357 -0.0008  0.0122 -0.0676\n",
              "\n",
              "[2 rows x 300 columns]"
            ]
          },
          "metadata": {
            "tags": []
          },
          "execution_count": 51
        }
      ]
    },
    {
      "cell_type": "code",
      "metadata": {
        "id": "4cMgaJD-Em5I",
        "outputId": "7e1778d3-e224-49be-93d6-b0e1f9866f52",
        "colab": {
          "base_uri": "https://localhost:8080/"
        }
      },
      "source": [
        "from keras.callbacks import EarlyStopping\n",
        "from keras.layers import Dense, Input, LSTM, Embedding, Dropout, Activation, Conv1D, BatchNormalization\n",
        "from keras.layers import  GlobalMaxPool1D, SpatialDropout1D\n",
        "from keras.layers import Bidirectional\n",
        "from keras.models import Model\n",
        "from keras import optimizers\n",
        "\n",
        "num_words, embedding_size = 20_000, 300\n",
        "early_stop = EarlyStopping(monitor='val_loss', mode='min', patience=3, verbose=1)\n",
        "# Embedding layer for text inputs\n",
        "input_words = Input((max_len, ))\n",
        "x_words = Embedding(num_words, embedding_size, weights=[embs.values], trainable=False)(input_words)\n",
        "x_words = SpatialDropout1D(0.3)(x_words)\n",
        "x_words = Bidirectional(LSTM(100, return_sequences=True))(x_words)\n",
        "x_words = Dropout(0.2)(x_words)\n",
        "x_words = Conv1D(128, 1, strides = 1,  padding='causal', activation='relu', )(x_words)\n",
        "x_words = Conv1D(256, 3, strides = 1,  padding='causal', activation='relu', )(x_words)\n",
        "x_words = Conv1D(512, 5, strides = 1,   padding='causal', activation='relu', )(x_words)\n",
        "x_words = GlobalMaxPool1D()(x_words)\n",
        "x_words = Dropout(0.2)(x_words)\n",
        "\n",
        "x = Dense(50, activation='relu')(x_words)\n",
        "x = Dropout(0.2)(x)\n",
        "predictions = Dense(len(categories), activation='softmax')(x)\n",
        "\n",
        "model = Model(inputs=[input_words], outputs=predictions)\n",
        "model.compile(optimizer='rmsprop' ,loss='categorical_crossentropy', metrics=['accuracy'])\n",
        "model.summary()"
      ],
      "execution_count": null,
      "outputs": [
        {
          "output_type": "stream",
          "text": [
            "Model: \"functional_1\"\n",
            "_________________________________________________________________\n",
            "Layer (type)                 Output Shape              Param #   \n",
            "=================================================================\n",
            "input_1 (InputLayer)         [(None, 50)]              0         \n",
            "_________________________________________________________________\n",
            "embedding_2 (Embedding)      (None, 50, 300)           6000000   \n",
            "_________________________________________________________________\n",
            "spatial_dropout1d (SpatialDr (None, 50, 300)           0         \n",
            "_________________________________________________________________\n",
            "bidirectional (Bidirectional (None, 50, 200)           320800    \n",
            "_________________________________________________________________\n",
            "dropout_2 (Dropout)          (None, 50, 200)           0         \n",
            "_________________________________________________________________\n",
            "conv1d_2 (Conv1D)            (None, 50, 128)           25728     \n",
            "_________________________________________________________________\n",
            "conv1d_3 (Conv1D)            (None, 50, 256)           98560     \n",
            "_________________________________________________________________\n",
            "conv1d_4 (Conv1D)            (None, 50, 512)           655872    \n",
            "_________________________________________________________________\n",
            "global_max_pooling1d (Global (None, 512)               0         \n",
            "_________________________________________________________________\n",
            "dropout_3 (Dropout)          (None, 512)               0         \n",
            "_________________________________________________________________\n",
            "dense_2 (Dense)              (None, 50)                25650     \n",
            "_________________________________________________________________\n",
            "dropout_4 (Dropout)          (None, 50)                0         \n",
            "_________________________________________________________________\n",
            "dense_3 (Dense)              (None, 24)                1224      \n",
            "=================================================================\n",
            "Total params: 7,127,834\n",
            "Trainable params: 1,127,834\n",
            "Non-trainable params: 6,000,000\n",
            "_________________________________________________________________\n"
          ],
          "name": "stdout"
        }
      ]
    },
    {
      "cell_type": "code",
      "metadata": {
        "id": "yFqBj5c-EnYc",
        "outputId": "10c25469-40d1-40d3-c56d-50b68464a383",
        "colab": {
          "base_uri": "https://localhost:8080/"
        }
      },
      "source": [
        "history = model.fit(\n",
        "    train, y_train_ohe,\n",
        "    epochs=30, verbose=1,\n",
        "    batch_size=1024, callbacks=[early_stop],\n",
        "    validation_split=0.1, shuffle=True)"
      ],
      "execution_count": null,
      "outputs": [
        {
          "output_type": "stream",
          "text": [
            "Epoch 1/30\n",
            "88/88 [==============================] - 14s 156ms/step - loss: 1.9991 - accuracy: 0.3944 - val_loss: 1.6691 - val_accuracy: 0.4566\n",
            "Epoch 2/30\n",
            "88/88 [==============================] - 13s 145ms/step - loss: 1.5634 - accuracy: 0.5076 - val_loss: 1.2946 - val_accuracy: 0.5796\n",
            "Epoch 3/30\n",
            "88/88 [==============================] - 13s 142ms/step - loss: 1.3850 - accuracy: 0.5587 - val_loss: 1.2295 - val_accuracy: 0.6209\n",
            "Epoch 4/30\n",
            "88/88 [==============================] - 12s 141ms/step - loss: 1.2664 - accuracy: 0.6009 - val_loss: 1.0755 - val_accuracy: 0.6730\n",
            "Epoch 5/30\n",
            "88/88 [==============================] - 12s 141ms/step - loss: 1.1464 - accuracy: 0.6425 - val_loss: 1.0191 - val_accuracy: 0.6887\n",
            "Epoch 6/30\n",
            "88/88 [==============================] - 12s 141ms/step - loss: 1.0416 - accuracy: 0.6755 - val_loss: 0.9125 - val_accuracy: 0.7178\n",
            "Epoch 7/30\n",
            "88/88 [==============================] - 12s 141ms/step - loss: 0.9434 - accuracy: 0.7103 - val_loss: 0.8134 - val_accuracy: 0.7490\n",
            "Epoch 8/30\n",
            "88/88 [==============================] - 12s 142ms/step - loss: 0.8722 - accuracy: 0.7329 - val_loss: 0.7558 - val_accuracy: 0.7716\n",
            "Epoch 9/30\n",
            "88/88 [==============================] - 12s 142ms/step - loss: 0.8132 - accuracy: 0.7526 - val_loss: 0.7622 - val_accuracy: 0.7622\n",
            "Epoch 10/30\n",
            "88/88 [==============================] - 13s 142ms/step - loss: 0.7671 - accuracy: 0.7646 - val_loss: 0.6814 - val_accuracy: 0.7942\n",
            "Epoch 11/30\n",
            "88/88 [==============================] - 12s 141ms/step - loss: 0.7206 - accuracy: 0.7794 - val_loss: 0.6505 - val_accuracy: 0.8056\n",
            "Epoch 12/30\n",
            "88/88 [==============================] - 12s 141ms/step - loss: 0.6894 - accuracy: 0.7894 - val_loss: 0.6150 - val_accuracy: 0.8164\n",
            "Epoch 13/30\n",
            "88/88 [==============================] - 12s 141ms/step - loss: 0.6540 - accuracy: 0.8009 - val_loss: 0.5834 - val_accuracy: 0.8288\n",
            "Epoch 14/30\n",
            "88/88 [==============================] - 12s 141ms/step - loss: 0.6240 - accuracy: 0.8097 - val_loss: 0.5387 - val_accuracy: 0.8340\n",
            "Epoch 15/30\n",
            "88/88 [==============================] - 12s 142ms/step - loss: 0.5909 - accuracy: 0.8209 - val_loss: 0.5183 - val_accuracy: 0.8379\n",
            "Epoch 16/30\n",
            "88/88 [==============================] - 12s 141ms/step - loss: 0.5582 - accuracy: 0.8284 - val_loss: 0.4907 - val_accuracy: 0.8475\n",
            "Epoch 17/30\n",
            "88/88 [==============================] - 12s 141ms/step - loss: 0.5382 - accuracy: 0.8355 - val_loss: 0.4820 - val_accuracy: 0.8551\n",
            "Epoch 18/30\n",
            "88/88 [==============================] - 12s 141ms/step - loss: 0.5157 - accuracy: 0.8420 - val_loss: 0.4643 - val_accuracy: 0.8588\n",
            "Epoch 19/30\n",
            "88/88 [==============================] - 12s 141ms/step - loss: 0.4957 - accuracy: 0.8475 - val_loss: 0.4302 - val_accuracy: 0.8680\n",
            "Epoch 20/30\n",
            "88/88 [==============================] - 12s 141ms/step - loss: 0.4801 - accuracy: 0.8527 - val_loss: 0.4211 - val_accuracy: 0.8690\n",
            "Epoch 21/30\n",
            "88/88 [==============================] - 12s 142ms/step - loss: 0.4587 - accuracy: 0.8582 - val_loss: 0.3981 - val_accuracy: 0.8738\n",
            "Epoch 22/30\n",
            "88/88 [==============================] - 12s 141ms/step - loss: 0.4444 - accuracy: 0.8632 - val_loss: 0.4047 - val_accuracy: 0.8719\n",
            "Epoch 23/30\n",
            "88/88 [==============================] - 12s 142ms/step - loss: 0.4292 - accuracy: 0.8668 - val_loss: 0.3930 - val_accuracy: 0.8782\n",
            "Epoch 24/30\n",
            "88/88 [==============================] - 12s 142ms/step - loss: 0.4138 - accuracy: 0.8717 - val_loss: 0.3702 - val_accuracy: 0.8868\n",
            "Epoch 25/30\n",
            "88/88 [==============================] - 12s 141ms/step - loss: 0.4035 - accuracy: 0.8749 - val_loss: 0.3717 - val_accuracy: 0.8900\n",
            "Epoch 26/30\n",
            "88/88 [==============================] - 12s 141ms/step - loss: 0.3880 - accuracy: 0.8799 - val_loss: 0.3405 - val_accuracy: 0.8952\n",
            "Epoch 27/30\n",
            "88/88 [==============================] - 12s 141ms/step - loss: 0.3790 - accuracy: 0.8818 - val_loss: 0.3281 - val_accuracy: 0.9008\n",
            "Epoch 28/30\n",
            "88/88 [==============================] - 12s 142ms/step - loss: 0.3698 - accuracy: 0.8855 - val_loss: 0.3453 - val_accuracy: 0.8982\n",
            "Epoch 29/30\n",
            "88/88 [==============================] - 12s 141ms/step - loss: 0.3552 - accuracy: 0.8906 - val_loss: 0.3436 - val_accuracy: 0.8976\n",
            "Epoch 30/30\n",
            "88/88 [==============================] - 12s 141ms/step - loss: 0.3405 - accuracy: 0.8948 - val_loss: 0.3176 - val_accuracy: 0.9043\n"
          ],
          "name": "stdout"
        }
      ]
    },
    {
      "cell_type": "code",
      "metadata": {
        "id": "hfHrBI2sQMRc",
        "outputId": "b488f39e-81b5-49a1-ec0e-35f52f1b76e6",
        "colab": {
          "base_uri": "https://localhost:8080/"
        }
      },
      "source": [
        "model.save(os.path.join(data_folder, 'model_bilstm.bin'))"
      ],
      "execution_count": null,
      "outputs": [
        {
          "output_type": "stream",
          "text": [
            "INFO:tensorflow:Assets written to: drive/My Drive/seznam/model_bilstm.bin/assets\n"
          ],
          "name": "stdout"
        }
      ]
    },
    {
      "cell_type": "code",
      "metadata": {
        "id": "4lDmbzq7Enej",
        "outputId": "828452b9-730e-4618-fe85-839125c55878",
        "colab": {
          "base_uri": "https://localhost:8080/",
          "height": 579
        }
      },
      "source": [
        "# summarize history for accuracy\n",
        "plt.plot(history.history['accuracy'])\n",
        "plt.plot(history.history['val_accuracy'])\n",
        "plt.title('model accuracy')\n",
        "plt.ylabel('accuracy')\n",
        "plt.xlabel('epoch')\n",
        "plt.legend(['train', 'test'], loc='upper left')\n",
        "plt.show()\n",
        "# summarize history for loss\n",
        "plt.plot(history.history['loss'])\n",
        "plt.plot(history.history['val_loss'])\n",
        "plt.title('model loss')\n",
        "plt.ylabel('loss')\n",
        "plt.xlabel('epoch')\n",
        "plt.legend(['train', 'test'], loc='upper left')\n",
        "plt.show()"
      ],
      "execution_count": null,
      "outputs": [
        {
          "output_type": "display_data",
          "data": {
            "image/png": "[encoded data removed]",
            "text/plain": [
              "<Figure size 432x288 with 1 Axes>"
            ]
          },
          "metadata": {
            "tags": [],
            "image/png": {
              "width": 389,
              "height": 281
            },
            "needs_background": "light"
          }
        },
        {
          "output_type": "display_data",
          "data": {
            "image/png": "[encoded data removed]",
            "text/plain": [
              "<Figure size 432x288 with 1 Axes>"
            ]
          },
          "metadata": {
            "tags": [],
            "image/png": {
              "width": 396,
              "height": 281
            },
            "needs_background": "light"
          }
        }
      ]
    },
    {
      "cell_type": "code",
      "metadata": {
        "id": "mLJAfaVWEnoV",
        "outputId": "497dd5c2-f23f-4a98-db51-0f71dfd99277",
        "colab": {
          "base_uri": "https://localhost:8080/"
        }
      },
      "source": [
        "print(classification_report(y_test, np.argmax(model.predict(test), axis=1)))"
      ],
      "execution_count": null,
      "outputs": [
        {
          "output_type": "stream",
          "text": [
            "              precision    recall  f1-score   support\n",
            "\n",
            "           0       0.75      0.79      0.77       255\n",
            "           1       0.00      0.00      0.00        14\n",
            "           2       0.96      0.82      0.88       249\n",
            "           3       0.85      0.82      0.83       153\n",
            "           4       0.00      0.00      0.00        15\n",
            "           5       0.84      0.77      0.80       205\n",
            "           6       0.00      0.00      0.00         6\n",
            "           7       1.00      0.79      0.88        53\n",
            "           8       0.84      0.94      0.88       573\n",
            "           9       0.90      0.98      0.94      4589\n",
            "          10       0.00      0.00      0.00         4\n",
            "          11       0.90      0.60      0.72        45\n",
            "          12       0.95      0.58      0.72        67\n",
            "          13       0.95      0.90      0.92      2878\n",
            "          15       0.00      0.00      0.00         8\n",
            "          16       0.73      0.62      0.67        96\n",
            "          17       0.99      0.85      0.91       481\n",
            "          18       0.72      0.67      0.70       132\n",
            "          19       0.00      0.00      0.00         5\n",
            "          20       1.00      0.50      0.67         6\n",
            "          21       0.97      0.96      0.96      1144\n",
            "          22       0.55      0.37      0.44        60\n",
            "          23       0.88      0.58      0.70        84\n",
            "\n",
            "    accuracy                           0.91     11122\n",
            "   macro avg       0.64      0.54      0.58     11122\n",
            "weighted avg       0.91      0.91      0.91     11122\n",
            "\n"
          ],
          "name": "stdout"
        },
        {
          "output_type": "stream",
          "text": [
            "/usr/local/lib/python3.6/dist-packages/sklearn/metrics/_classification.py:1272: UndefinedMetricWarning:\n",
            "\n",
            "Precision and F-score are ill-defined and being set to 0.0 in labels with no predicted samples. Use `zero_division` parameter to control this behavior.\n",
            "\n"
          ],
          "name": "stderr"
        }
      ]
    },
    {
      "cell_type": "markdown",
      "metadata": {
        "id": "tpB8XoyC1T86"
      },
      "source": [
        "# Try LSTM with ~ balanced data"
      ]
    },
    {
      "cell_type": "code",
      "metadata": {
        "id": "LN4Q4h351cYS",
        "outputId": "ce9959aa-a57a-4e05-e62b-cfa5254c47c3",
        "colab": {
          "base_uri": "https://localhost:8080/",
          "height": 131
        }
      },
      "source": [
        "data_mutated = pd.read_csv(os.path.join(data_folder, 'data_mutated.csv'), index_col=[0])\n",
        "print(data_mutated.shape)\n",
        "data_mutated.head(2)"
      ],
      "execution_count": null,
      "outputs": [
        {
          "output_type": "stream",
          "text": [
            "(113431, 2)\n"
          ],
          "name": "stdout"
        },
        {
          "output_type": "execute_result",
          "data": {
            "text/html": [
              "<div>\n",
              "<style scoped>\n",
              "    .dataframe tbody tr th:only-of-type {\n",
              "        vertical-align: middle;\n",
              "    }\n",
              "\n",
              "    .dataframe tbody tr th {\n",
              "        vertical-align: top;\n",
              "    }\n",
              "\n",
              "    .dataframe thead th {\n",
              "        text-align: right;\n",
              "    }\n",
              "</style>\n",
              "<table border=\"1\" class=\"dataframe\">\n",
              "  <thead>\n",
              "    <tr style=\"text-align: right;\">\n",
              "      <th></th>\n",
              "      <th>tot</th>\n",
              "      <th>category</th>\n",
              "    </tr>\n",
              "  </thead>\n",
              "  <tbody>\n",
              "    <tr>\n",
              "      <th>0</th>\n",
              "      <td>krčmář dojel hromadném závodě devátý díky skvě...</td>\n",
              "      <td>3</td>\n",
              "    </tr>\n",
              "    <tr>\n",
              "      <th>1</th>\n",
              "      <td>česká vlajka pokljuce vidět štafetách medaile ...</td>\n",
              "      <td>3</td>\n",
              "    </tr>\n",
              "  </tbody>\n",
              "</table>\n",
              "</div>"
            ],
            "text/plain": [
              "                                                 tot  category\n",
              "0  krčmář dojel hromadném závodě devátý díky skvě...         3\n",
              "1  česká vlajka pokljuce vidět štafetách medaile ...         3"
            ]
          },
          "metadata": {
            "tags": []
          },
          "execution_count": 26
        }
      ]
    },
    {
      "cell_type": "code",
      "metadata": {
        "id": "WoClH-ti1RBb",
        "outputId": "2d20fdba-7fa3-4200-e008-ed5e11613a6a",
        "colab": {
          "base_uri": "https://localhost:8080/"
        }
      },
      "source": [
        "X, y = data_mutated.drop(['category'], axis=1), data_mutated.category\n",
        "X_train, X_test, y_train, y_test = train_test_split(X, y, test_size=0.1, stratify=y, random_state=SEED)\n",
        "train_data = pd.concat([X_train, y_train], axis=1)\n",
        "test_data = pd.concat([X_test, y_test], axis=1)\n",
        "\n",
        "X_train.shape, y_train.shape\n",
        "ohe = pd.get_dummies(data_mutated.category)\n",
        "X_ohe = pd.concat([data_mutated.tot, ohe], axis=1)\n",
        "\n",
        "X_train_ohe, X_test_ohe, y_train_ohe, y_test_ohe = train_test_split(\n",
        "    X_ohe.tot, X_ohe.drop(['tot'], axis=1),\n",
        "    test_size=0.1, stratify=y, random_state=SEED)"
      ],
      "execution_count": null,
      "outputs": [
        {
          "output_type": "execute_result",
          "data": {
            "text/plain": [
              "((102087, 1), (102087,))"
            ]
          },
          "metadata": {
            "tags": []
          },
          "execution_count": 28
        }
      ]
    },
    {
      "cell_type": "code",
      "metadata": {
        "id": "ogU546681RCD"
      },
      "source": [
        "# get tokens\n",
        "vocabulary = 20_000\n",
        "max_len = 50\n",
        "tokenizer = Tokenizer(num_words=vocabulary)\n",
        "tokenizer.fit_on_texts(X_train_ohe.values)\n",
        "sequences = tokenizer.texts_to_sequences(X_train_ohe.values)\n",
        "train = pad_sequences(sequences, maxlen=max_len)\n",
        "sequences = tokenizer.texts_to_sequences(X_test_ohe.values)\n",
        "test = pad_sequences(sequences, maxlen=max_len)"
      ],
      "execution_count": null,
      "outputs": []
    },
    {
      "cell_type": "code",
      "metadata": {
        "id": "hl2ojUz01RCK",
        "outputId": "447775eb-627b-4578-beee-849be0cca7e6",
        "colab": {
          "base_uri": "https://localhost:8080/"
        }
      },
      "source": [
        "model = Sequential()\n",
        "model.add(Embedding(vocabulary, 100, input_length=max_len))\n",
        "model.add(Dropout(0.2))\n",
        "model.add(Conv1D(64, 1, activation='relu'))\n",
        "model.add(MaxPooling1D(pool_size=1))\n",
        "model.add(LSTM(100))\n",
        "model.add(Dense(len(categories), activation='softmax'))\n",
        "\n",
        "model.compile(loss='categorical_crossentropy', optimizer='adam', metrics=['accuracy'])\n",
        "model.summary()"
      ],
      "execution_count": null,
      "outputs": [
        {
          "output_type": "stream",
          "text": [
            "Model: \"sequential_1\"\n",
            "_________________________________________________________________\n",
            "Layer (type)                 Output Shape              Param #   \n",
            "=================================================================\n",
            "embedding_1 (Embedding)      (None, 50, 100)           2000000   \n",
            "_________________________________________________________________\n",
            "dropout_1 (Dropout)          (None, 50, 100)           0         \n",
            "_________________________________________________________________\n",
            "conv1d_1 (Conv1D)            (None, 50, 64)            6464      \n",
            "_________________________________________________________________\n",
            "max_pooling1d_1 (MaxPooling1 (None, 50, 64)            0         \n",
            "_________________________________________________________________\n",
            "lstm_1 (LSTM)                (None, 100)               66000     \n",
            "_________________________________________________________________\n",
            "dense_1 (Dense)              (None, 24)                2424      \n",
            "=================================================================\n",
            "Total params: 2,074,888\n",
            "Trainable params: 2,074,888\n",
            "Non-trainable params: 0\n",
            "_________________________________________________________________\n"
          ],
          "name": "stdout"
        }
      ]
    },
    {
      "cell_type": "code",
      "metadata": {
        "id": "znd5mbGT1RCR",
        "outputId": "a41d268e-e135-42f7-dda8-40c3026b1384",
        "colab": {
          "base_uri": "https://localhost:8080/"
        }
      },
      "source": [
        "history = model.fit(\n",
        "    train, y_train_ohe,\n",
        "    batch_size=1024,\n",
        "    epochs=20,\n",
        "    verbose=1,\n",
        "    validation_split=0.1,\n",
        "    shuffle=True)"
      ],
      "execution_count": null,
      "outputs": [
        {
          "output_type": "stream",
          "text": [
            "Epoch 1/30\n",
            "90/90 [==============================] - 6s 63ms/step - loss: 1.9774 - accuracy: 0.4262 - val_loss: 1.3466 - val_accuracy: 0.6284\n",
            "Epoch 2/30\n",
            "90/90 [==============================] - 5s 52ms/step - loss: 0.8952 - accuracy: 0.7609 - val_loss: 0.6145 - val_accuracy: 0.8338\n",
            "Epoch 3/30\n",
            "90/90 [==============================] - 5s 53ms/step - loss: 0.4494 - accuracy: 0.8819 - val_loss: 0.4047 - val_accuracy: 0.8942\n",
            "Epoch 4/30\n",
            "90/90 [==============================] - 5s 54ms/step - loss: 0.2661 - accuracy: 0.9269 - val_loss: 0.2568 - val_accuracy: 0.9297\n",
            "Epoch 5/30\n",
            "90/90 [==============================] - 5s 53ms/step - loss: 0.1645 - accuracy: 0.9540 - val_loss: 0.2140 - val_accuracy: 0.9383\n",
            "Epoch 6/30\n",
            "90/90 [==============================] - 5s 52ms/step - loss: 0.1090 - accuracy: 0.9708 - val_loss: 0.1807 - val_accuracy: 0.9530\n",
            "Epoch 7/30\n",
            "90/90 [==============================] - 5s 52ms/step - loss: 0.0730 - accuracy: 0.9828 - val_loss: 0.1643 - val_accuracy: 0.9567\n",
            "Epoch 8/30\n",
            "90/90 [==============================] - 5s 53ms/step - loss: 0.0480 - accuracy: 0.9897 - val_loss: 0.1567 - val_accuracy: 0.9594\n",
            "Epoch 9/30\n",
            "90/90 [==============================] - 5s 53ms/step - loss: 0.0335 - accuracy: 0.9929 - val_loss: 0.1505 - val_accuracy: 0.9605\n",
            "Epoch 10/30\n",
            "90/90 [==============================] - 5s 53ms/step - loss: 0.0261 - accuracy: 0.9946 - val_loss: 0.1507 - val_accuracy: 0.9623\n",
            "Epoch 11/30\n",
            "90/90 [==============================] - 5s 52ms/step - loss: 0.0221 - accuracy: 0.9955 - val_loss: 0.1513 - val_accuracy: 0.9651\n",
            "Epoch 12/30\n",
            "90/90 [==============================] - 5s 52ms/step - loss: 0.0176 - accuracy: 0.9966 - val_loss: 0.1513 - val_accuracy: 0.9641\n",
            "Epoch 13/30\n",
            "90/90 [==============================] - 5s 51ms/step - loss: 0.0151 - accuracy: 0.9971 - val_loss: 0.1507 - val_accuracy: 0.9647\n",
            "Epoch 14/30\n",
            "90/90 [==============================] - 5s 51ms/step - loss: 0.0126 - accuracy: 0.9975 - val_loss: 0.1451 - val_accuracy: 0.9672\n",
            "Epoch 15/30\n",
            "90/90 [==============================] - 5s 52ms/step - loss: 0.0140 - accuracy: 0.9968 - val_loss: 0.1452 - val_accuracy: 0.9670\n",
            "Epoch 16/30\n",
            "90/90 [==============================] - 5s 52ms/step - loss: 0.0107 - accuracy: 0.9980 - val_loss: 0.1473 - val_accuracy: 0.9670\n",
            "Epoch 17/30\n",
            "90/90 [==============================] - 5s 52ms/step - loss: 0.0081 - accuracy: 0.9984 - val_loss: 0.1592 - val_accuracy: 0.9665\n",
            "Epoch 18/30\n",
            "90/90 [==============================] - 5s 51ms/step - loss: 0.0070 - accuracy: 0.9987 - val_loss: 0.1573 - val_accuracy: 0.9664\n",
            "Epoch 19/30\n",
            "90/90 [==============================] - 5s 50ms/step - loss: 0.0084 - accuracy: 0.9982 - val_loss: 0.1631 - val_accuracy: 0.9647\n",
            "Epoch 20/30\n",
            "90/90 [==============================] - 5s 50ms/step - loss: 0.0072 - accuracy: 0.9984 - val_loss: 0.1606 - val_accuracy: 0.9658\n",
            "Epoch 21/30\n",
            "90/90 [==============================] - 5s 50ms/step - loss: 0.0074 - accuracy: 0.9983 - val_loss: 0.1452 - val_accuracy: 0.9693\n",
            "Epoch 22/30\n",
            "90/90 [==============================] - 5s 50ms/step - loss: 0.0067 - accuracy: 0.9984 - val_loss: 0.1694 - val_accuracy: 0.9654\n",
            "Epoch 23/30\n",
            "90/90 [==============================] - 5s 50ms/step - loss: 0.0063 - accuracy: 0.9986 - val_loss: 0.1529 - val_accuracy: 0.9684\n",
            "Epoch 24/30\n",
            "90/90 [==============================] - 5s 51ms/step - loss: 0.0060 - accuracy: 0.9987 - val_loss: 0.1524 - val_accuracy: 0.9687\n",
            "Epoch 25/30\n",
            "90/90 [==============================] - 5s 52ms/step - loss: 0.0062 - accuracy: 0.9985 - val_loss: 0.1528 - val_accuracy: 0.9663\n",
            "Epoch 26/30\n",
            "90/90 [==============================] - 5s 53ms/step - loss: 0.0042 - accuracy: 0.9991 - val_loss: 0.1551 - val_accuracy: 0.9700\n",
            "Epoch 27/30\n",
            "90/90 [==============================] - 5s 52ms/step - loss: 0.0042 - accuracy: 0.9991 - val_loss: 0.1583 - val_accuracy: 0.9683\n",
            "Epoch 28/30\n",
            "90/90 [==============================] - 5s 52ms/step - loss: 0.0032 - accuracy: 0.9993 - val_loss: 0.1700 - val_accuracy: 0.9667\n",
            "Epoch 29/30\n",
            "90/90 [==============================] - 5s 52ms/step - loss: 0.0039 - accuracy: 0.9990 - val_loss: 0.1624 - val_accuracy: 0.9679\n",
            "Epoch 30/30\n",
            "90/90 [==============================] - 5s 51ms/step - loss: 0.0028 - accuracy: 0.9994 - val_loss: 0.1631 - val_accuracy: 0.9699\n"
          ],
          "name": "stdout"
        }
      ]
    },
    {
      "cell_type": "code",
      "metadata": {
        "id": "1__paB0a21D7",
        "outputId": "1b841623-ef47-4c2b-c4d3-b8561021f52f",
        "colab": {
          "base_uri": "https://localhost:8080/"
        }
      },
      "source": [
        "print(classification_report(y_test, np.argmax(model.predict(test), axis=1)))"
      ],
      "execution_count": null,
      "outputs": [
        {
          "output_type": "stream",
          "text": [
            "              precision    recall  f1-score   support\n",
            "\n",
            "           0       0.91      0.91      0.91       255\n",
            "           1       0.94      0.88      0.91        50\n",
            "           2       0.96      0.95      0.95       249\n",
            "           3       0.98      0.93      0.96       153\n",
            "           4       0.88      0.74      0.80        50\n",
            "           5       0.96      0.93      0.95       205\n",
            "           6       0.80      0.80      0.80        30\n",
            "           7       0.94      0.85      0.89        53\n",
            "           8       0.92      0.97      0.95       573\n",
            "           9       0.98      0.99      0.99      4589\n",
            "          10       0.64      1.00      0.78        30\n",
            "          11       0.83      0.84      0.84        45\n",
            "          12       0.83      0.93      0.87        67\n",
            "          13       0.98      0.98      0.98      2878\n",
            "          14       0.91      1.00      0.95        30\n",
            "          15       0.75      0.80      0.77        30\n",
            "          16       0.94      0.91      0.92        96\n",
            "          17       0.97      0.93      0.95       481\n",
            "          18       0.67      0.77      0.71       132\n",
            "          19       0.97      1.00      0.98        30\n",
            "          20       0.88      0.93      0.90        30\n",
            "          21       0.99      0.98      0.99      1144\n",
            "          22       0.83      0.67      0.74        60\n",
            "          23       0.95      0.86      0.90        84\n",
            "\n",
            "    accuracy                           0.97     11344\n",
            "   macro avg       0.89      0.90      0.89     11344\n",
            "weighted avg       0.97      0.97      0.97     11344\n",
            "\n"
          ],
          "name": "stdout"
        }
      ]
    },
    {
      "cell_type": "code",
      "metadata": {
        "id": "stbtr-L03kBP"
      },
      "source": [
        ""
      ],
      "execution_count": null,
      "outputs": []
    }
  ]
}